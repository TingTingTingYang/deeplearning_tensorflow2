{
 "cells": [
  {
   "cell_type": "markdown",
   "metadata": {},
   "source": [
    "### 3.3 线性回归的简洁实现\n",
    "使用tenseorflow2.1推荐的keras接口更方便地实现线性回归的训练"
   ]
  },
  {
   "cell_type": "markdown",
   "metadata": {},
   "source": [
    "### 3.3.1 生成数据集"
   ]
  },
  {
   "cell_type": "code",
   "execution_count": null,
   "metadata": {
    "collapsed": true
   },
   "outputs": [],
   "source": []
  },
  {
   "cell_type": "code",
   "execution_count": 4,
   "metadata": {},
   "outputs": [],
   "source": [
    "import tensorflow as tf\n",
    "num_input=2 # 特征数目\n",
    "num_examples=1000 #样本数目\n",
    "\n",
    "w_true=[2,-3.4]\n",
    "b_true=4.2\n",
    "features=tf.random.normal((num_examples,num_input),stddev=1)\n",
    "labels=w_true[0]*features[:,0]+w_true[1]*features[:,1]+b_true\n",
    "labels+=tf.random.normal((1,),stddev=0.01)"
   ]
  },
  {
   "cell_type": "markdown",
   "metadata": {},
   "source": [
    "### 3.3.2 读取数据\n",
    "虽然tensorflow2可以直接你和线性回归，不需要划分数据集，但我们仍然学习一下读取数据的方法"
   ]
  },
  {
   "cell_type": "code",
   "execution_count": 5,
   "metadata": {},
   "outputs": [
    {
     "name": "stdout",
     "output_type": "stream",
     "text": [
      "tf.Tensor(\n",
      "[[-2.5739121  -0.03105187]\n",
      " [-1.1676126  -0.27078718]\n",
      " [-2.0111303   1.2487797 ]\n",
      " [-1.234453   -0.7569317 ]\n",
      " [-0.454333   -0.42830804]\n",
      " [ 0.6063047  -0.50836664]\n",
      " [ 0.77010465 -0.8540454 ]\n",
      " [ 0.18733422 -0.15464906]\n",
      " [-0.47878644  0.65418017]\n",
      " [ 0.55609     0.4219057 ]], shape=(10, 2), dtype=float32) tf.Tensor(\n",
      "[-0.8397572  2.787942  -4.0656214  4.3071527  4.750072   7.143547\n",
      "  8.646455   5.1029663  1.020705   3.880191 ], shape=(10,), dtype=float32)\n"
     ]
    }
   ],
   "source": [
    "from tensorflow import data as tfdata\n",
    "\n",
    "batch_size=10\n",
    "#训练数据的特征和标签组合起来\n",
    "dataset=tfdata.Dataset.from_tensor_slices((features,labels))\n",
    "#随机读取小批量样本\n",
    "dataset=dataset.shuffle(buffer_size=num_examples)\n",
    "dataset=dataset.batch(batch_size)\n",
    "for (batch,(X,y)) in enumerate(dataset):\n",
    "    print(X,y)\n",
    "    break"
   ]
  },
  {
   "cell_type": "markdown",
   "metadata": {},
   "source": [
    "### 3.3.3 定义模型和初始化参数\n",
    "tensorflow2.0推荐使用keras定义网络\n",
    "keras中初始化参数由kernel_initializer 和bias_initializer选项分别设置权重和偏置的初始化方式，偏差参数默认会初始化为0"
   ]
  },
  {
   "cell_type": "code",
   "execution_count": 6,
   "metadata": {
    "collapsed": true
   },
   "outputs": [],
   "source": [
    "from tensorflow import keras\n",
    "from tensorflow.keras import layers\n",
    "from tensorflow import initializers as init\n",
    "model=keras.Sequential()\n",
    "model.add(layers.Dense(1,kernel_initializer=init.RandomNormal(stddev=0.01)))"
   ]
  },
  {
   "cell_type": "markdown",
   "metadata": {},
   "source": [
    "### 3.3.4 定义损失函数\n",
    "tensorflow在losses模块中提供了各种损失函数和自定义损失函数的基类，\n",
    "这里直接使用均方误差损失作为模型的损失函数"
   ]
  },
  {
   "cell_type": "code",
   "execution_count": 7,
   "metadata": {
    "collapsed": true
   },
   "outputs": [],
   "source": [
    "from tensorflow import losses\n",
    "loss=losses.MeanSquaredError()"
   ]
  },
  {
   "cell_type": "markdown",
   "metadata": {},
   "source": [
    "### 3.3.5 定义优化方法\n",
    "tensorflow.keras.optimizers模块提供了常用的优化算法如SGD、Adam、RMSProp等。"
   ]
  },
  {
   "cell_type": "code",
   "execution_count": 8,
   "metadata": {
    "collapsed": true
   },
   "outputs": [],
   "source": [
    "from tensorflow.keras import optimizers\n",
    "trainer=optimizers.SGD(learning_rate=0.03)"
   ]
  },
  {
   "cell_type": "markdown",
   "metadata": {},
   "source": [
    "### 3.3.6 训练模型\n",
    "执行tape.gradient获得动态图中各变量梯度\n",
    "\n",
    "通过model.trainable_variables找到需要更新的变量\n",
    "\n",
    "使用trainer.apply_gradients更新权重，完成一步训练"
   ]
  },
  {
   "cell_type": "code",
   "execution_count": 10,
   "metadata": {},
   "outputs": [
    {
     "name": "stdout",
     "output_type": "stream",
     "text": [
      "epoch=1,loss=0.00012905884068459272\n",
      "epoch=2,loss=5.990940521449772e-10\n",
      "epoch=3,loss=5.410730457428015e-12\n"
     ]
    }
   ],
   "source": [
    "num_epochs=3\n",
    "for epoch in range(num_epochs):\n",
    "    for (batch,(X,y)) in enumerate(dataset):\n",
    "        with tf.GradientTape() as t:\n",
    "            l=loss(model(X,training=True),y)\n",
    "        grads=t.gradient(l,model.trainable_variables)\n",
    "        trainer.apply_gradients(zip(grads,model.trainable_variables))\n",
    "    l=loss(model(features),labels)\n",
    "    print('epoch={},loss={}'.format(epoch+1,l))"
   ]
  },
  {
   "cell_type": "code",
   "execution_count": 13,
   "metadata": {},
   "outputs": [
    {
     "data": {
      "text/plain": [
       "array([[ 2.0000002],\n",
       "       [-3.3999999]], dtype=float32)"
      ]
     },
     "execution_count": 13,
     "metadata": {},
     "output_type": "execute_result"
    }
   ],
   "source": [
    "model.get_weights()[0] # 权重（weight）"
   ]
  },
  {
   "cell_type": "code",
   "execution_count": 14,
   "metadata": {},
   "outputs": [
    {
     "data": {
      "text/plain": [
       "array([4.2024884], dtype=float32)"
      ]
     },
     "execution_count": 14,
     "metadata": {},
     "output_type": "execute_result"
    }
   ],
   "source": [
    "model.get_weights()[1]#偏差（bias）"
   ]
  },
  {
   "cell_type": "code",
   "execution_count": null,
   "metadata": {
    "collapsed": true
   },
   "outputs": [],
   "source": []
  }
 ],
 "metadata": {
  "kernelspec": {
   "display_name": "Python 3",
   "language": "python",
   "name": "python3"
  },
  "language_info": {
   "codemirror_mode": {
    "name": "ipython",
    "version": 3
   },
   "file_extension": ".py",
   "mimetype": "text/x-python",
   "name": "python",
   "nbconvert_exporter": "python",
   "pygments_lexer": "ipython3",
   "version": "3.6.1"
  }
 },
 "nbformat": 4,
 "nbformat_minor": 2
}
