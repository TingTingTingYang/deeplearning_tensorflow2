{
 "cells": [
  {
   "cell_type": "markdown",
   "metadata": {},
   "source": [
    "### 3.2 线性回归的从零开始实现"
   ]
  },
  {
   "cell_type": "markdown",
   "metadata": {
    "collapsed": true
   },
   "source": [
    " 这一节不使用tensorflow深度学习框架，只利用Tensor和GradientTape来实现一个线性回归的训练"
   ]
  },
  {
   "cell_type": "code",
   "execution_count": 2,
   "metadata": {},
   "outputs": [
    {
     "name": "stderr",
     "output_type": "stream",
     "text": [
      "C:\\ProgramData\\Anaconda3\\lib\\site-packages\\h5py\\__init__.py:34: FutureWarning: Conversion of the second argument of issubdtype from `float` to `np.floating` is deprecated. In future, it will be treated as `np.float64 == np.dtype(float).type`.\n",
      "  from ._conv import register_converters as _register_converters\n"
     ]
    },
    {
     "name": "stdout",
     "output_type": "stream",
     "text": [
      "2.1.0\n"
     ]
    }
   ],
   "source": [
    "#导入需要的包，matplotlib设置成嵌入显示\n",
    "%matplotlib inline\n",
    "import tensorflow as tf\n",
    "print(tf.__version__)\n",
    "from matplotlib import pyplot as plt\n",
    "import random"
   ]
  },
  {
   "cell_type": "markdown",
   "metadata": {},
   "source": [
    "### 3.2.1 生成数据集"
   ]
  },
  {
   "cell_type": "markdown",
   "metadata": {},
   "source": [
    "人工构造训练数据集。训练集样本数目为1000，特征数为2，使用线性回归模型真实权重$w=[2,-3.4]^T和偏差b=4.2,以及一个随机项\\epsi $来生成标签"
   ]
  },
  {
   "cell_type": "code",
   "execution_count": 8,
   "metadata": {},
   "outputs": [],
   "source": [
    "num_input=2\n",
    "num_examples=1000\n",
    "features=tf.random.normal((num_examples,num_input),stddev=1)#特征服从正态分布\n",
    "true_w=[2,-3.4]\n",
    "true_b=4.2\n",
    "labels=true_w[0]*features[:,0]+true_w[1]*features[:,1]+true_b\n",
    "labels+=tf.random.normal(labels.shape,stddev=0.01)#随机扰动项也服从正态分布\n"
   ]
  },
  {
   "cell_type": "code",
   "execution_count": 9,
   "metadata": {},
   "outputs": [
    {
     "name": "stdout",
     "output_type": "stream",
     "text": [
      "tf.Tensor([-0.13986962  0.8606469 ], shape=(2,), dtype=float32) tf.Tensor(0.9914908, shape=(), dtype=float32)\n"
     ]
    }
   ],
   "source": [
    "print(features[0],labels[0])"
   ]
  },
  {
   "cell_type": "code",
   "execution_count": 10,
   "metadata": {},
   "outputs": [
    {
     "data": {
      "text/plain": [
       "<matplotlib.collections.PathCollection at 0x1cbb5dca080>"
      ]
     },
     "execution_count": 10,
     "metadata": {},
     "output_type": "execute_result"
    },
    {
     "data": {
      "image/png": "[encoded data removed]",
      "text/plain": [
       "<matplotlib.figure.Figure at 0x1cbb5c81828>"
      ]
     },
     "metadata": {},
     "output_type": "display_data"
    }
   ],
   "source": [
    "plt.scatter(features[:,1],labels)"
   ]
  },
  {
   "cell_type": "markdown",
   "metadata": {},
   "source": [
    "### 3.2.2 读取数据\n",
    "定义一个函数：它每次返回batch_size（批量大小）个随机样本的特征和标签"
   ]
  },
  {
   "cell_type": "code",
   "execution_count": 14,
   "metadata": {},
   "outputs": [],
   "source": [
    "def data_iter(batch_size,features,labels):\n",
    "    num_data=len(features)\n",
    "    indinces=list(range(num_data))\n",
    "    random.shuffle(indinces)\n",
    "    for i in range(0,num_data,batch_size):\n",
    "        j=indinces[i:min(i+batch_size,num_data)]\n",
    "        yield tf.gather(features,axis=0,indices=j),tf.gather(labels,axis=0,indices=j)"
   ]
  },
  {
   "cell_type": "markdown",
   "metadata": {},
   "source": [
    "读取第一个小批量并打印"
   ]
  },
  {
   "cell_type": "code",
   "execution_count": 15,
   "metadata": {},
   "outputs": [
    {
     "name": "stdout",
     "output_type": "stream",
     "text": [
      "tf.Tensor(\n",
      "[[-1.4449335  -1.3712823 ]\n",
      " [ 0.22914612  0.6648675 ]\n",
      " [ 1.720826    0.26253632]\n",
      " [-0.4239627  -1.1536461 ]\n",
      " [ 0.5420536  -0.8134228 ]\n",
      " [ 1.9544085  -0.48752728]\n",
      " [ 0.6324639  -0.30208507]\n",
      " [-0.8767512   0.9508051 ]\n",
      " [ 0.8711956  -1.2785826 ]\n",
      " [-0.8743013  -0.9428995 ]], shape=(10, 2), dtype=float32)\n",
      "tf.Tensor(\n",
      "[ 5.9731073  2.3920763  6.753569   7.280857   8.04243    9.78001\n",
      "  6.484252  -0.7993021 10.288695   5.6548324], shape=(10,), dtype=float32)\n"
     ]
    }
   ],
   "source": [
    "batch_size=10\n",
    "for X,y in data_iter(batch_size,features,labels):\n",
    "    print(X)\n",
    "    print(y)\n",
    "    break"
   ]
  },
  {
   "cell_type": "markdown",
   "metadata": {},
   "source": [
    "### 3.2.3 初始化模型参数\n",
    "将权重初始化成均值为0、标准差为0.01的正太随机数，偏差则初始化为0"
   ]
  },
  {
   "cell_type": "code",
   "execution_count": 17,
   "metadata": {},
   "outputs": [],
   "source": [
    "w=tf.Variable(tf.random.normal((num_input,1),stddev=0.001))\n",
    "b=tf.Variable(tf.zeros((1,)))"
   ]
  },
  {
   "cell_type": "markdown",
   "metadata": {},
   "source": [
    "### 3.2.4 定义模型\n",
    "线性回归矢量计算表达式"
   ]
  },
  {
   "cell_type": "code",
   "execution_count": 19,
   "metadata": {
    "collapsed": true
   },
   "outputs": [],
   "source": [
    "def linear(x,w,b):\n",
    "    return tf.matmul(x,w)+b #开始定义的true_w和true_x不能用matmul，因为是列表形式，不是矩阵形式"
   ]
  },
  {
   "cell_type": "markdown",
   "metadata": {},
   "source": [
    "### 3.2.5 定义损失函数\n",
    "使用平方损失函数"
   ]
  },
  {
   "cell_type": "code",
   "execution_count": 18,
   "metadata": {
    "collapsed": true
   },
   "outputs": [],
   "source": [
    "def squared_loss(y_hat,y):\n",
    "    return (y_hat-tf.reshape(y,y_hat.shape))**2/2"
   ]
  },
  {
   "cell_type": "markdown",
   "metadata": {},
   "source": [
    "### 3.2.6 定义优化算法\n",
    "随机小批量梯度下降算法\n",
    "\n",
    "除以batch_size是因为得到的梯度是批量样本的梯度和，所以要初一batch_size得到均值"
   ]
  },
  {
   "cell_type": "code",
   "execution_count": 24,
   "metadata": {},
   "outputs": [],
   "source": [
    "def sgd(params,lr,batch_size,grads):\n",
    "    for i,param in enumerate(params):\n",
    "        param.assign_sub(lr*grads[i]/batch_size)"
   ]
  },
  {
   "cell_type": "markdown",
   "metadata": {},
   "source": [
    "### 3.2.7 训练模型"
   ]
  },
  {
   "cell_type": "code",
   "execution_count": 25,
   "metadata": {},
   "outputs": [
    {
     "name": "stdout",
     "output_type": "stream",
     "text": [
      "epoch=1,loss=0.03493260219693184\n",
      "epoch=2,loss=0.00012455382966436446\n",
      "epoch=3,loss=4.5250970288179815e-05\n"
     ]
    }
   ],
   "source": [
    "lr=0.03 #学习率\n",
    "num_epoches=3\n",
    "net=linear\n",
    "loss=squared_loss\n",
    "\n",
    "for epoch in range(num_epoches):\n",
    "    for X,y in data_iter(batch_size,features,labels):\n",
    "        with tf.GradientTape() as t:\n",
    "            t.watch([w,b])\n",
    "            l=loss(net(X,w,b),y)\n",
    "        grads=t.gradient(l,[w,b])\n",
    "        sgd([w,b],lr,batch_size,grads)\n",
    "    train_1=loss(net(features,w,b),labels)\n",
    "    print('epoch={},loss={}'.format(epoch+1,tf.reduce_mean(train_1)))\n",
    "        "
   ]
  },
  {
   "cell_type": "code",
   "execution_count": 26,
   "metadata": {},
   "outputs": [
    {
     "name": "stdout",
     "output_type": "stream",
     "text": [
      "[2, -3.4]\n",
      "<tf.Variable 'Variable:0' shape=(2, 1) dtype=float32, numpy=\n",
      "array([[ 1.999673 ],\n",
      "       [-3.3996425]], dtype=float32)>\n"
     ]
    }
   ],
   "source": [
    "print(true_w)\n",
    "print(w)"
   ]
  },
  {
   "cell_type": "code",
   "execution_count": 27,
   "metadata": {},
   "outputs": [
    {
     "name": "stdout",
     "output_type": "stream",
     "text": [
      "4.2 <tf.Variable 'Variable:0' shape=(1,) dtype=float32, numpy=array([4.2002707], dtype=float32)>\n"
     ]
    }
   ],
   "source": [
    "print(true_b,b)"
   ]
  },
  {
   "cell_type": "code",
   "execution_count": null,
   "metadata": {
    "collapsed": true
   },
   "outputs": [],
   "source": []
  }
 ],
 "metadata": {
  "kernelspec": {
   "display_name": "Python 3",
   "language": "python",
   "name": "python3"
  },
  "language_info": {
   "codemirror_mode": {
    "name": "ipython",
    "version": 3
   },
   "file_extension": ".py",
   "mimetype": "text/x-python",
   "name": "python",
   "nbconvert_exporter": "python",
   "pygments_lexer": "ipython3",
   "version": "3.6.1"
  }
 },
 "nbformat": 4,
 "nbformat_minor": 2
}
