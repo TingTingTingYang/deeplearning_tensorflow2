{
 "cells": [
  {
   "cell_type": "code",
   "execution_count": 1,
   "metadata": {},
   "outputs": [
    {
     "name": "stderr",
     "output_type": "stream",
     "text": [
      "C:\\ProgramData\\Anaconda3\\lib\\site-packages\\h5py\\__init__.py:34: FutureWarning: Conversion of the second argument of issubdtype from `float` to `np.floating` is deprecated. In future, it will be treated as `np.float64 == np.dtype(float).type`.\n",
      "  from ._conv import register_converters as _register_converters\n"
     ]
    },
    {
     "name": "stdout",
     "output_type": "stream",
     "text": [
      "2.1.0\n"
     ]
    }
   ],
   "source": [
    "import tensorflow as tf\n",
    "import numpy as np\n",
    "print(tf.__version__)"
   ]
  },
  {
   "cell_type": "markdown",
   "metadata": {},
   "source": [
    "### 3.6.1 获取和读取数据"
   ]
  },
  {
   "cell_type": "code",
   "execution_count": 3,
   "metadata": {
    "collapsed": true
   },
   "outputs": [],
   "source": [
    "from tensorflow.keras.datasets import fashion_mnist\n",
    "batch_size=256\n",
    "(x_train, y_train), (x_test, y_test) = fashion_mnist.load_data()\n"
   ]
  },
  {
   "cell_type": "code",
   "execution_count": 4,
   "metadata": {
    "collapsed": true
   },
   "outputs": [
    {
     "data": {
      "text/plain": [
       "array([[  0,   0,   0,   0,   0,   1,   0,   0,   0,   0,  41, 188, 103,\n",
       "         54,  48,  43,  87, 168, 133,  16,   0,   0,   0,   0,   0,   0,\n",
       "          0,   0],\n",
       "       [  0,   0,   0,   1,   0,   0,   0,  49, 136, 219, 216, 228, 236,\n",
       "        255, 255, 255, 255, 217, 215, 254, 231, 160,  45,   0,   0,   0,\n",
       "          0,   0],\n",
       "       [  0,   0,   0,   0,   0,  14, 176, 222, 224, 212, 203, 198, 196,\n",
       "        200, 215, 204, 202, 201, 201, 201, 209, 218, 224, 164,   0,   0,\n",
       "          0,   0],\n",
       "       [  0,   0,   0,   0,   0, 188, 219, 200, 198, 202, 198, 199, 199,\n",
       "        201, 196, 198, 198, 200, 200, 200, 200, 201, 200, 225,  41,   0,\n",
       "          0,   0],\n",
       "       [  0,   0,   0,   0,  51, 219, 199, 203, 203, 212, 238, 248, 250,\n",
       "        245, 249, 246, 247, 252, 248, 235, 207, 203, 203, 222, 140,   0,\n",
       "          0,   0],\n",
       "       [  0,   0,   0,   0, 116, 226, 206, 204, 207, 204, 101,  75,  47,\n",
       "         73,  48,  50,  45,  51,  63, 113, 222, 202, 206, 220, 224,   0,\n",
       "          0,   0],\n",
       "       [  0,   0,   0,   0, 200, 222, 209, 203, 215, 200,   0,  70,  98,\n",
       "          0, 103,  59,  68,  71,  49,   0, 219, 206, 214, 210, 250,  38,\n",
       "          0,   0],\n",
       "       [  0,   0,   0,   0, 247, 218, 212, 210, 215, 214,   0, 254, 243,\n",
       "        139, 255, 174, 251, 255, 205,   0, 215, 217, 214, 208, 220,  95,\n",
       "          0,   0],\n",
       "       [  0,   0,   0,  45, 226, 214, 214, 215, 224, 205,   0,  42,  35,\n",
       "         60,  16,  17,  12,  13,  70,   0, 189, 216, 212, 206, 212, 156,\n",
       "          0,   0],\n",
       "       [  0,   0,   0, 164, 235, 214, 211, 220, 216, 201,  52,  71,  89,\n",
       "         94,  83,  78,  70,  76,  92,  87, 206, 207, 222, 213, 219, 208,\n",
       "          0,   0],\n",
       "       [  0,   0,   0, 106, 187, 223, 237, 248, 211, 198, 252, 250, 248,\n",
       "        245, 248, 252, 253, 250, 252, 239, 201, 212, 225, 215, 193, 113,\n",
       "          0,   0],\n",
       "       [  0,   0,   0,   0,   0,  17,  54, 159, 222, 193, 208, 192, 197,\n",
       "        200, 200, 200, 200, 201, 203, 195, 210, 165,   0,   0,   0,   0,\n",
       "          0,   0],\n",
       "       [  0,   0,   0,   0,   0,   0,   0,  47, 225, 192, 214, 203, 206,\n",
       "        204, 204, 205, 206, 204, 212, 197, 218, 107,   0,   0,   0,   0,\n",
       "          0,   0],\n",
       "       [  0,   0,   0,   0,   1,   6,   0,  46, 212, 195, 212, 202, 206,\n",
       "        205, 204, 205, 206, 204, 212, 200, 218,  91,   0,   3,   1,   0,\n",
       "          0,   0],\n",
       "       [  0,   0,   0,   0,   0,   1,   0,  11, 197, 199, 205, 202, 205,\n",
       "        206, 204, 205, 207, 204, 205, 205, 218,  77,   0,   5,   0,   0,\n",
       "          0,   0],\n",
       "       [  0,   0,   0,   0,   0,   3,   0,   2, 191, 198, 201, 205, 206,\n",
       "        205, 205, 206, 209, 206, 199, 209, 219,  74,   0,   5,   0,   0,\n",
       "          0,   0],\n",
       "       [  0,   0,   0,   0,   0,   2,   0,   0, 188, 197, 200, 207, 207,\n",
       "        204, 207, 207, 210, 208, 198, 207, 221,  72,   0,   4,   0,   0,\n",
       "          0,   0],\n",
       "       [  0,   0,   0,   0,   0,   2,   0,   0, 215, 198, 203, 206, 208,\n",
       "        205, 207, 207, 210, 208, 200, 202, 222,  75,   0,   4,   0,   0,\n",
       "          0,   0],\n",
       "       [  0,   0,   0,   0,   0,   1,   0,   0, 212, 198, 209, 206, 209,\n",
       "        206, 208, 207, 211, 206, 205, 198, 221,  80,   0,   3,   0,   0,\n",
       "          0,   0],\n",
       "       [  0,   0,   0,   0,   0,   1,   0,   0, 204, 201, 205, 208, 207,\n",
       "        205, 211, 205, 210, 210, 209, 195, 221,  96,   0,   3,   0,   0,\n",
       "          0,   0],\n",
       "       [  0,   0,   0,   0,   0,   1,   0,   0, 202, 201, 205, 209, 207,\n",
       "        205, 213, 206, 210, 209, 210, 194, 217, 105,   0,   2,   0,   0,\n",
       "          0,   0],\n",
       "       [  0,   0,   0,   0,   0,   1,   0,   0, 204, 204, 205, 208, 207,\n",
       "        205, 215, 207, 210, 208, 211, 193, 213, 115,   0,   2,   0,   0,\n",
       "          0,   0],\n",
       "       [  0,   0,   0,   0,   0,   0,   0,   0, 204, 207, 207, 208, 206,\n",
       "        206, 215, 210, 210, 207, 212, 195, 210, 118,   0,   2,   0,   0,\n",
       "          0,   0],\n",
       "       [  0,   0,   0,   0,   0,   1,   0,   0, 198, 208, 208, 208, 204,\n",
       "        207, 212, 212, 210, 207, 211, 196, 207, 121,   0,   1,   0,   0,\n",
       "          0,   0],\n",
       "       [  0,   0,   0,   0,   0,   1,   0,   0, 198, 210, 207, 208, 206,\n",
       "        209, 213, 212, 211, 207, 210, 197, 207, 124,   0,   1,   0,   0,\n",
       "          0,   0],\n",
       "       [  0,   0,   0,   0,   0,   0,   0,   0, 172, 210, 203, 201, 199,\n",
       "        204, 207, 205, 204, 201, 205, 197, 206, 127,   0,   0,   0,   0,\n",
       "          0,   0],\n",
       "       [  0,   0,   0,   0,   0,   0,   0,   0, 188, 221, 214, 234, 236,\n",
       "        238, 244, 244, 244, 240, 243, 214, 224, 162,   0,   2,   0,   0,\n",
       "          0,   0],\n",
       "       [  0,   0,   0,   0,   0,   1,   0,   0, 139, 146, 130, 135, 135,\n",
       "        137, 125, 124, 125, 121, 119, 114, 130,  76,   0,   0,   0,   0,\n",
       "          0,   0]], dtype=uint8)"
      ]
     },
     "execution_count": 4,
     "metadata": {},
     "output_type": "execute_result"
    }
   ],
   "source": [
    "x_train[1]"
   ]
  },
  {
   "cell_type": "code",
   "execution_count": 5,
   "metadata": {
    "collapsed": true
   },
   "outputs": [],
   "source": [
    "#255是图片中像素最大值，除以255相当于进行了归一化\n",
    "x_train = tf.cast(x_train, tf.float32) / 255 #在进行矩阵相乘时需要float型，故强制类型转换为float型\n",
    "x_test = tf.cast(x_test,tf.float32) / 255 #在进行矩阵相乘时需要float型，故强制类型转换为float型\n",
    "train_iter = tf.data.Dataset.from_tensor_slices((x_train, y_train)).batch(batch_size)\n",
    "test_iter = tf.data.Dataset.from_tensor_slices((x_test, y_test)).batch(batch_size)"
   ]
  },
  {
   "cell_type": "code",
   "execution_count": 6,
   "metadata": {
    "collapsed": true
   },
   "outputs": [
    {
     "data": {
      "text/plain": [
       "<tf.Tensor: shape=(28, 28), dtype=float32, numpy=\n",
       "array([[0.        , 0.        , 0.        , 0.        , 0.        ,\n",
       "        0.00392157, 0.        , 0.        , 0.        , 0.        ,\n",
       "        0.16078432, 0.7372549 , 0.40392157, 0.21176471, 0.1882353 ,\n",
       "        0.16862746, 0.34117648, 0.65882355, 0.52156866, 0.0627451 ,\n",
       "        0.        , 0.        , 0.        , 0.        , 0.        ,\n",
       "        0.        , 0.        , 0.        ],\n",
       "       [0.        , 0.        , 0.        , 0.00392157, 0.        ,\n",
       "        0.        , 0.        , 0.19215687, 0.53333336, 0.85882354,\n",
       "        0.84705883, 0.89411765, 0.9254902 , 1.        , 1.        ,\n",
       "        1.        , 1.        , 0.8509804 , 0.84313726, 0.99607843,\n",
       "        0.90588236, 0.627451  , 0.1764706 , 0.        , 0.        ,\n",
       "        0.        , 0.        , 0.        ],\n",
       "       [0.        , 0.        , 0.        , 0.        , 0.        ,\n",
       "        0.05490196, 0.6901961 , 0.87058824, 0.8784314 , 0.83137256,\n",
       "        0.79607844, 0.7764706 , 0.76862746, 0.78431374, 0.84313726,\n",
       "        0.8       , 0.7921569 , 0.7882353 , 0.7882353 , 0.7882353 ,\n",
       "        0.81960785, 0.85490197, 0.8784314 , 0.6431373 , 0.        ,\n",
       "        0.        , 0.        , 0.        ],\n",
       "       [0.        , 0.        , 0.        , 0.        , 0.        ,\n",
       "        0.7372549 , 0.85882354, 0.78431374, 0.7764706 , 0.7921569 ,\n",
       "        0.7764706 , 0.78039217, 0.78039217, 0.7882353 , 0.76862746,\n",
       "        0.7764706 , 0.7764706 , 0.78431374, 0.78431374, 0.78431374,\n",
       "        0.78431374, 0.7882353 , 0.78431374, 0.88235295, 0.16078432,\n",
       "        0.        , 0.        , 0.        ],\n",
       "       [0.        , 0.        , 0.        , 0.        , 0.2       ,\n",
       "        0.85882354, 0.78039217, 0.79607844, 0.79607844, 0.83137256,\n",
       "        0.93333334, 0.972549  , 0.98039216, 0.9607843 , 0.9764706 ,\n",
       "        0.9647059 , 0.96862745, 0.9882353 , 0.972549  , 0.92156863,\n",
       "        0.8117647 , 0.79607844, 0.79607844, 0.87058824, 0.54901963,\n",
       "        0.        , 0.        , 0.        ],\n",
       "       [0.        , 0.        , 0.        , 0.        , 0.45490196,\n",
       "        0.8862745 , 0.80784315, 0.8       , 0.8117647 , 0.8       ,\n",
       "        0.39607844, 0.29411766, 0.18431373, 0.28627452, 0.1882353 ,\n",
       "        0.19607843, 0.1764706 , 0.2       , 0.24705882, 0.44313726,\n",
       "        0.87058824, 0.7921569 , 0.80784315, 0.8627451 , 0.8784314 ,\n",
       "        0.        , 0.        , 0.        ],\n",
       "       [0.        , 0.        , 0.        , 0.        , 0.78431374,\n",
       "        0.87058824, 0.81960785, 0.79607844, 0.84313726, 0.78431374,\n",
       "        0.        , 0.27450982, 0.38431373, 0.        , 0.40392157,\n",
       "        0.23137255, 0.26666668, 0.2784314 , 0.19215687, 0.        ,\n",
       "        0.85882354, 0.80784315, 0.8392157 , 0.8235294 , 0.98039216,\n",
       "        0.14901961, 0.        , 0.        ],\n",
       "       [0.        , 0.        , 0.        , 0.        , 0.96862745,\n",
       "        0.85490197, 0.83137256, 0.8235294 , 0.84313726, 0.8392157 ,\n",
       "        0.        , 0.99607843, 0.9529412 , 0.54509807, 1.        ,\n",
       "        0.68235296, 0.9843137 , 1.        , 0.8039216 , 0.        ,\n",
       "        0.84313726, 0.8509804 , 0.8392157 , 0.8156863 , 0.8627451 ,\n",
       "        0.37254903, 0.        , 0.        ],\n",
       "       [0.        , 0.        , 0.        , 0.1764706 , 0.8862745 ,\n",
       "        0.8392157 , 0.8392157 , 0.84313726, 0.8784314 , 0.8039216 ,\n",
       "        0.        , 0.16470589, 0.13725491, 0.23529412, 0.0627451 ,\n",
       "        0.06666667, 0.04705882, 0.05098039, 0.27450982, 0.        ,\n",
       "        0.7411765 , 0.84705883, 0.83137256, 0.80784315, 0.83137256,\n",
       "        0.6117647 , 0.        , 0.        ],\n",
       "       [0.        , 0.        , 0.        , 0.6431373 , 0.92156863,\n",
       "        0.8392157 , 0.827451  , 0.8627451 , 0.84705883, 0.7882353 ,\n",
       "        0.20392157, 0.2784314 , 0.34901962, 0.36862746, 0.3254902 ,\n",
       "        0.30588236, 0.27450982, 0.29803923, 0.36078432, 0.34117648,\n",
       "        0.80784315, 0.8117647 , 0.87058824, 0.8352941 , 0.85882354,\n",
       "        0.8156863 , 0.        , 0.        ],\n",
       "       [0.        , 0.        , 0.        , 0.41568628, 0.73333335,\n",
       "        0.8745098 , 0.92941177, 0.972549  , 0.827451  , 0.7764706 ,\n",
       "        0.9882353 , 0.98039216, 0.972549  , 0.9607843 , 0.972549  ,\n",
       "        0.9882353 , 0.99215686, 0.98039216, 0.9882353 , 0.9372549 ,\n",
       "        0.7882353 , 0.83137256, 0.88235295, 0.84313726, 0.75686276,\n",
       "        0.44313726, 0.        , 0.        ],\n",
       "       [0.        , 0.        , 0.        , 0.        , 0.        ,\n",
       "        0.06666667, 0.21176471, 0.62352943, 0.87058824, 0.75686276,\n",
       "        0.8156863 , 0.7529412 , 0.77254903, 0.78431374, 0.78431374,\n",
       "        0.78431374, 0.78431374, 0.7882353 , 0.79607844, 0.7647059 ,\n",
       "        0.8235294 , 0.64705884, 0.        , 0.        , 0.        ,\n",
       "        0.        , 0.        , 0.        ],\n",
       "       [0.        , 0.        , 0.        , 0.        , 0.        ,\n",
       "        0.        , 0.        , 0.18431373, 0.88235295, 0.7529412 ,\n",
       "        0.8392157 , 0.79607844, 0.80784315, 0.8       , 0.8       ,\n",
       "        0.8039216 , 0.80784315, 0.8       , 0.83137256, 0.77254903,\n",
       "        0.85490197, 0.41960785, 0.        , 0.        , 0.        ,\n",
       "        0.        , 0.        , 0.        ],\n",
       "       [0.        , 0.        , 0.        , 0.        , 0.00392157,\n",
       "        0.02352941, 0.        , 0.18039216, 0.83137256, 0.7647059 ,\n",
       "        0.83137256, 0.7921569 , 0.80784315, 0.8039216 , 0.8       ,\n",
       "        0.8039216 , 0.80784315, 0.8       , 0.83137256, 0.78431374,\n",
       "        0.85490197, 0.35686275, 0.        , 0.01176471, 0.00392157,\n",
       "        0.        , 0.        , 0.        ],\n",
       "       [0.        , 0.        , 0.        , 0.        , 0.        ,\n",
       "        0.00392157, 0.        , 0.04313726, 0.77254903, 0.78039217,\n",
       "        0.8039216 , 0.7921569 , 0.8039216 , 0.80784315, 0.8       ,\n",
       "        0.8039216 , 0.8117647 , 0.8       , 0.8039216 , 0.8039216 ,\n",
       "        0.85490197, 0.3019608 , 0.        , 0.01960784, 0.        ,\n",
       "        0.        , 0.        , 0.        ],\n",
       "       [0.        , 0.        , 0.        , 0.        , 0.        ,\n",
       "        0.01176471, 0.        , 0.00784314, 0.7490196 , 0.7764706 ,\n",
       "        0.7882353 , 0.8039216 , 0.80784315, 0.8039216 , 0.8039216 ,\n",
       "        0.80784315, 0.81960785, 0.80784315, 0.78039217, 0.81960785,\n",
       "        0.85882354, 0.2901961 , 0.        , 0.01960784, 0.        ,\n",
       "        0.        , 0.        , 0.        ],\n",
       "       [0.        , 0.        , 0.        , 0.        , 0.        ,\n",
       "        0.00784314, 0.        , 0.        , 0.7372549 , 0.77254903,\n",
       "        0.78431374, 0.8117647 , 0.8117647 , 0.8       , 0.8117647 ,\n",
       "        0.8117647 , 0.8235294 , 0.8156863 , 0.7764706 , 0.8117647 ,\n",
       "        0.8666667 , 0.28235295, 0.        , 0.01568628, 0.        ,\n",
       "        0.        , 0.        , 0.        ],\n",
       "       [0.        , 0.        , 0.        , 0.        , 0.        ,\n",
       "        0.00784314, 0.        , 0.        , 0.84313726, 0.7764706 ,\n",
       "        0.79607844, 0.80784315, 0.8156863 , 0.8039216 , 0.8117647 ,\n",
       "        0.8117647 , 0.8235294 , 0.8156863 , 0.78431374, 0.7921569 ,\n",
       "        0.87058824, 0.29411766, 0.        , 0.01568628, 0.        ,\n",
       "        0.        , 0.        , 0.        ],\n",
       "       [0.        , 0.        , 0.        , 0.        , 0.        ,\n",
       "        0.00392157, 0.        , 0.        , 0.83137256, 0.7764706 ,\n",
       "        0.81960785, 0.80784315, 0.81960785, 0.80784315, 0.8156863 ,\n",
       "        0.8117647 , 0.827451  , 0.80784315, 0.8039216 , 0.7764706 ,\n",
       "        0.8666667 , 0.3137255 , 0.        , 0.01176471, 0.        ,\n",
       "        0.        , 0.        , 0.        ],\n",
       "       [0.        , 0.        , 0.        , 0.        , 0.        ,\n",
       "        0.00392157, 0.        , 0.        , 0.8       , 0.7882353 ,\n",
       "        0.8039216 , 0.8156863 , 0.8117647 , 0.8039216 , 0.827451  ,\n",
       "        0.8039216 , 0.8235294 , 0.8235294 , 0.81960785, 0.7647059 ,\n",
       "        0.8666667 , 0.3764706 , 0.        , 0.01176471, 0.        ,\n",
       "        0.        , 0.        , 0.        ],\n",
       "       [0.        , 0.        , 0.        , 0.        , 0.        ,\n",
       "        0.00392157, 0.        , 0.        , 0.7921569 , 0.7882353 ,\n",
       "        0.8039216 , 0.81960785, 0.8117647 , 0.8039216 , 0.8352941 ,\n",
       "        0.80784315, 0.8235294 , 0.81960785, 0.8235294 , 0.7607843 ,\n",
       "        0.8509804 , 0.4117647 , 0.        , 0.00784314, 0.        ,\n",
       "        0.        , 0.        , 0.        ],\n",
       "       [0.        , 0.        , 0.        , 0.        , 0.        ,\n",
       "        0.00392157, 0.        , 0.        , 0.8       , 0.8       ,\n",
       "        0.8039216 , 0.8156863 , 0.8117647 , 0.8039216 , 0.84313726,\n",
       "        0.8117647 , 0.8235294 , 0.8156863 , 0.827451  , 0.75686276,\n",
       "        0.8352941 , 0.4509804 , 0.        , 0.00784314, 0.        ,\n",
       "        0.        , 0.        , 0.        ],\n",
       "       [0.        , 0.        , 0.        , 0.        , 0.        ,\n",
       "        0.        , 0.        , 0.        , 0.8       , 0.8117647 ,\n",
       "        0.8117647 , 0.8156863 , 0.80784315, 0.80784315, 0.84313726,\n",
       "        0.8235294 , 0.8235294 , 0.8117647 , 0.83137256, 0.7647059 ,\n",
       "        0.8235294 , 0.4627451 , 0.        , 0.00784314, 0.        ,\n",
       "        0.        , 0.        , 0.        ],\n",
       "       [0.        , 0.        , 0.        , 0.        , 0.        ,\n",
       "        0.00392157, 0.        , 0.        , 0.7764706 , 0.8156863 ,\n",
       "        0.8156863 , 0.8156863 , 0.8       , 0.8117647 , 0.83137256,\n",
       "        0.83137256, 0.8235294 , 0.8117647 , 0.827451  , 0.76862746,\n",
       "        0.8117647 , 0.4745098 , 0.        , 0.00392157, 0.        ,\n",
       "        0.        , 0.        , 0.        ],\n",
       "       [0.        , 0.        , 0.        , 0.        , 0.        ,\n",
       "        0.00392157, 0.        , 0.        , 0.7764706 , 0.8235294 ,\n",
       "        0.8117647 , 0.8156863 , 0.80784315, 0.81960785, 0.8352941 ,\n",
       "        0.83137256, 0.827451  , 0.8117647 , 0.8235294 , 0.77254903,\n",
       "        0.8117647 , 0.4862745 , 0.        , 0.00392157, 0.        ,\n",
       "        0.        , 0.        , 0.        ],\n",
       "       [0.        , 0.        , 0.        , 0.        , 0.        ,\n",
       "        0.        , 0.        , 0.        , 0.6745098 , 0.8235294 ,\n",
       "        0.79607844, 0.7882353 , 0.78039217, 0.8       , 0.8117647 ,\n",
       "        0.8039216 , 0.8       , 0.7882353 , 0.8039216 , 0.77254903,\n",
       "        0.80784315, 0.49803922, 0.        , 0.        , 0.        ,\n",
       "        0.        , 0.        , 0.        ],\n",
       "       [0.        , 0.        , 0.        , 0.        , 0.        ,\n",
       "        0.        , 0.        , 0.        , 0.7372549 , 0.8666667 ,\n",
       "        0.8392157 , 0.91764706, 0.9254902 , 0.93333334, 0.95686275,\n",
       "        0.95686275, 0.95686275, 0.9411765 , 0.9529412 , 0.8392157 ,\n",
       "        0.8784314 , 0.63529414, 0.        , 0.00784314, 0.        ,\n",
       "        0.        , 0.        , 0.        ],\n",
       "       [0.        , 0.        , 0.        , 0.        , 0.        ,\n",
       "        0.00392157, 0.        , 0.        , 0.54509807, 0.57254905,\n",
       "        0.50980395, 0.5294118 , 0.5294118 , 0.5372549 , 0.49019608,\n",
       "        0.4862745 , 0.49019608, 0.4745098 , 0.46666667, 0.44705883,\n",
       "        0.50980395, 0.29803923, 0.        , 0.        , 0.        ,\n",
       "        0.        , 0.        , 0.        ]], dtype=float32)>"
      ]
     },
     "execution_count": 6,
     "metadata": {},
     "output_type": "execute_result"
    }
   ],
   "source": [
    "x_train[1]"
   ]
  },
  {
   "cell_type": "markdown",
   "metadata": {},
   "source": [
    "### 3.6.2 初始化模型参数"
   ]
  },
  {
   "cell_type": "code",
   "execution_count": 8,
   "metadata": {},
   "outputs": [],
   "source": [
    "num_inputs=784\n",
    "num_outputs=10\n",
    "W=tf.Variable(tf.random.normal(shape=(num_inputs,num_outputs),mean=0,stddev=0.01,dtype=tf.float32))\n",
    "b=tf.Variable(tf.zeros(num_outputs,dtype=tf.float32))"
   ]
  },
  {
   "cell_type": "markdown",
   "metadata": {},
   "source": [
    "### 3.6.3实现softmax运算\n",
    "axis=0(同一列运算)\n",
    "axis=1（同一行运算）\n",
    "keepdims=True(运算之后保留维度，二维的就，结果中保留行和列两个维度)"
   ]
  },
  {
   "cell_type": "code",
   "execution_count": 10,
   "metadata": {},
   "outputs": [
    {
     "data": {
      "text/plain": [
       "(<tf.Tensor: shape=(1, 3), dtype=int32, numpy=array([[5, 7, 9]])>,\n",
       " <tf.Tensor: shape=(2, 1), dtype=int32, numpy=\n",
       " array([[ 6],\n",
       "        [15]])>)"
      ]
     },
     "execution_count": 10,
     "metadata": {},
     "output_type": "execute_result"
    }
   ],
   "source": [
    "# 举例\n",
    "example= tf.constant([[1, 2, 3], [4, 5, 6]])\n",
    "tf.reduce_sum(example, axis=0, keepdims=True), tf.reduce_sum(example, axis=1, keepdims=True)"
   ]
  },
  {
   "cell_type": "code",
   "execution_count": 17,
   "metadata": {
    "collapsed": true
   },
   "outputs": [],
   "source": [
    "def softmax(logits,axis=-1):\n",
    "    return tf.exp(logits)/tf.reduce_sum(tf.exp(logits),axis,keepdims=True)"
   ]
  },
  {
   "cell_type": "markdown",
   "metadata": {},
   "source": [
    "### 3.6.4 定义模型"
   ]
  },
  {
   "cell_type": "code",
   "execution_count": 12,
   "metadata": {
    "collapsed": true
   },
   "outputs": [],
   "source": [
    "def net(X):\n",
    "    logits=tf.matmul(tf.reshape(X,shape=(-1,W.shape[0])),W)+b\n",
    "    return softmax(logits)"
   ]
  },
  {
   "cell_type": "code",
   "execution_count": 13,
   "metadata": {},
   "outputs": [
    {
     "data": {
      "text/plain": [
       "<tf.Tensor: shape=(2,), dtype=float64, numpy=array([0.1, 0.5])>"
      ]
     },
     "execution_count": 13,
     "metadata": {},
     "output_type": "execute_result"
    }
   ],
   "source": [
    "#举例\n",
    "# y_hat = np.array([[0.1, 0.3, 0.6], [0.3, 0.2, 0.5]])\n",
    "# y = np.array([0, 2], dtype='int32')\n",
    "# tf.boolean_mask(y_hat, tf.one_hot(y, depth=3))"
   ]
  },
  {
   "cell_type": "markdown",
   "metadata": {},
   "source": [
    "### 3.6.5 定义损失函数"
   ]
  },
  {
   "cell_type": "code",
   "execution_count": 19,
   "metadata": {
    "collapsed": true
   },
   "outputs": [],
   "source": [
    "def cross_entropy(y_hat,y):\n",
    "    y=tf.cast(tf.reshape(y,shape=[-1,1]),dtype=tf.int32)\n",
    "    y=tf.one_hot(y,depth=y_hat.shape[-1])\n",
    "    y=tf.cast(tf.reshape(y,shape=[-1,y_hat.shape[-1]]),dtype=tf.int32)\n",
    "    return -tf.math.log(tf.boolean_mask(y_hat,y)+1e-8) #算出了每个样本的交叉熵，没有进行各个交叉熵相加"
   ]
  },
  {
   "cell_type": "markdown",
   "metadata": {},
   "source": [
    "### 3.6.6 计算分类准确率\n",
    "对于tensorflow2中，比较的双方必须类型都是int型，所以要将输出和标签都转为int型"
   ]
  },
  {
   "cell_type": "code",
   "execution_count": 15,
   "metadata": {
    "collapsed": true
   },
   "outputs": [],
   "source": [
    "def evaluate_accuracy(data_iter,net):\n",
    "    acc_sum,n=0.0,0\n",
    "    for _,(X,y) in enumerate(data_iter):\n",
    "        y=tf.cast(y,dtype=tf.int64)\n",
    "        acc_sum+=np.sum(tf.cast(tf.argmax(net(X),axis=1),dtype=tf.int64)==y)\n",
    "        n+=y.shape[0]\n",
    "    return acc_sum/n"
   ]
  },
  {
   "cell_type": "code",
   "execution_count": 18,
   "metadata": {},
   "outputs": [
    {
     "name": "stdout",
     "output_type": "stream",
     "text": [
      "0.1414\n"
     ]
    }
   ],
   "source": [
    "print(evaluate_accuracy(test_iter,net))"
   ]
  },
  {
   "cell_type": "markdown",
   "metadata": {},
   "source": [
    "### 3.6.7训练模型"
   ]
  },
  {
   "cell_type": "code",
   "execution_count": 23,
   "metadata": {},
   "outputs": [
    {
     "name": "stdout",
     "output_type": "stream",
     "text": [
      "epoch=1,loss=0.775,train_acc=0.755,test_acc=0.794\n",
      "epoch=2,loss=0.5699,train_acc=0.813,test_acc=0.812\n",
      "epoch=3,loss=0.5252,train_acc=0.825,test_acc=0.821\n",
      "epoch=4,loss=0.5012,train_acc=0.831,test_acc=0.825\n",
      "epoch=5,loss=0.4854,train_acc=0.836,test_acc=0.828\n"
     ]
    }
   ],
   "source": [
    "num_epochs,lr=5,0.1\n",
    "def train_ch3(net,train_iter,test_iter,loss,num_epochs,batch_size,params=None,lr=None,trainer=None):\n",
    "    for epoch in range(num_epochs):\n",
    "        train_loss_sum,train_acc_sum,n=0.0,0.0,0\n",
    "        for X,y in train_iter:\n",
    "            with tf.GradientTape() as tape:\n",
    "                y_hat=net(X)\n",
    "                l=tf.reduce_sum(loss(y_hat,y))\n",
    "            grads=tape.gradient(l,params)\n",
    "            if trainer is None:\n",
    "                #如果没有传入优化器，则使用原来编写的小批量随机梯度下降\n",
    "                for i,param in enumerate(params):\n",
    "                    param.assign_sub(lr*grads[i]/batch_size)\n",
    "            else:\n",
    "                trainer.apply_gradient(zip([grad/batch_size for grad in grads],params))\n",
    "            y=tf.cast(y,dtype=tf.float32)\n",
    "            train_loss_sum+=l.numpy()\n",
    "            train_acc_sum+=tf.reduce_sum(tf.cast(tf.argmax(y_hat,axis=1)==tf.cast(y,dtype=tf.int64),dtype=tf.int64)).numpy()\n",
    "            n+=y.shape[0]\n",
    "        test_acc=evaluate_accuracy(test_iter,net)\n",
    "        print('epoch={},loss={:.4},train_acc={:.3},test_acc={:.3}'.format(epoch+1,train_loss_sum/n,train_acc_sum/n,test_acc))\n",
    "trainer=tf.keras.optimizers.SGD(lr)\n",
    "train_ch3(net,train_iter,test_iter,cross_entropy,num_epochs,batch_size,[W,b],lr)"
   ]
  },
  {
   "cell_type": "markdown",
   "metadata": {},
   "source": [
    "### 3.6.8 预测"
   ]
  },
  {
   "cell_type": "code",
   "execution_count": 24,
   "metadata": {
    "collapsed": true
   },
   "outputs": [],
   "source": [
    "import matplotlib.pyplot as plt\n",
    "X, y = iter(test_iter).next()\n",
    "\n",
    "def get_fashion_mnist_labels(labels):\n",
    "    text_labels = ['t-shirt', 'trouser', 'pullover', 'dress', 'coat', 'sandal', 'shirt', 'sneaker', 'bag', 'ankle boot']\n",
    "    return [text_labels[int(i)] for i in labels]\n",
    "\n",
    "def show_fashion_mnist(images, labels):\n",
    "    # 这⾥的_表示我们忽略（不使⽤）的变量\n",
    "    _, figs = plt.subplots(1, len(images), figsize=(12, 12)) # 这里注意subplot 和subplots 的区别\n",
    "    for f, img, lbl in zip(figs, images, labels):\n",
    "        f.imshow(tf.reshape(img, shape=(28, 28)).numpy())\n",
    "        f.set_title(lbl)\n",
    "        f.axes.get_xaxis().set_visible(False)\n",
    "        f.axes.get_yaxis().set_visible(False)\n",
    "    plt.show()"
   ]
  },
  {
   "cell_type": "code",
   "execution_count": 25,
   "metadata": {},
   "outputs": [
    {
     "data": {
      "image/png": "[encoded data removed]",
      "text/plain": [
       "<matplotlib.figure.Figure at 0x169801ed470>"
      ]
     },
     "metadata": {},
     "output_type": "display_data"
    }
   ],
   "source": [
    "true_labels = get_fashion_mnist_labels(y.numpy())\n",
    "pred_labels = get_fashion_mnist_labels(tf.argmax(net(X), axis=1).numpy())\n",
    "titles = [true + '\\n' + pred for true, pred in zip(true_labels, pred_labels)]\n",
    "\n",
    "show_fashion_mnist(X[0:9], titles[0:9])"
   ]
  },
  {
   "cell_type": "code",
   "execution_count": null,
   "metadata": {
    "collapsed": true
   },
   "outputs": [],
   "source": []
  }
 ],
 "metadata": {
  "kernelspec": {
   "display_name": "Python 3",
   "language": "python",
   "name": "python3"
  },
  "language_info": {
   "codemirror_mode": {
    "name": "ipython",
    "version": 3
   },
   "file_extension": ".py",
   "mimetype": "text/x-python",
   "name": "python",
   "nbconvert_exporter": "python",
   "pygments_lexer": "ipython3",
   "version": "3.6.1"
  }
 },
 "nbformat": 4,
 "nbformat_minor": 2
}
